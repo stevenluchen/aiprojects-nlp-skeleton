{
 "cells": [
  {
   "cell_type": "code",
   "execution_count": 4,
   "metadata": {},
   "outputs": [
    {
     "data": {
      "text/plain": [
       "(1306122, 3)"
      ]
     },
     "execution_count": 4,
     "metadata": {},
     "output_type": "execute_result"
    }
   ],
   "source": [
    "import pandas as pd\n",
    "from matplotlib import pyplot as plt\n",
    "import numpy as np\n",
    "\n",
    "data = pd.read_csv('data_sets/train.csv')"
   ]
  },
  {
   "cell_type": "code",
   "execution_count": 40,
   "metadata": {},
   "outputs": [
    {
     "data": {
      "text/plain": [
       "902600     [How, can, I, find, more, information, about, ...\n",
       "883251     [What, do, people, in, New, York, City, think,...\n",
       "789169          [Why, do, people, lack, all, common, sense?]\n",
       "1095516    [How/when, do, I, inform, someone, that, wants...\n",
       "489300     [What, can, we, gather, from, the, fact, that,...\n",
       "848402     [Did, ancient, Africans, just, sunbathe, or, d...\n",
       "228350     [How, even, logically,, let, alone, legally,, ...\n",
       "579809      [What, would, you, do, if, I, was, your, mummy?]\n",
       "775803     [No, woman, likes, a, weak, man, and, most, me...\n",
       "611796      [Is, Kerala, now, a, country, owned, by, goons?]\n",
       "Name: question_text, dtype: object"
      ]
     },
     "execution_count": 40,
     "metadata": {},
     "output_type": "execute_result"
    }
   ],
   "source": [
    "data[data.target == 1].sample(10)['question_text'].str.split()"
   ]
  },
  {
   "attachments": {},
   "cell_type": "markdown",
   "metadata": {},
   "source": [
    "data: 3 columns, \n",
    "1306122 observations, 808110 of which  insincere. => 6.2%\n",
    "^^ model will learn to just predict sincere for all observations\n",
    "\n",
    "insincere questions are on average 94.55 characters long; 16.36 words long\n",
    "sincere questions are on average 65.43 characters long; 13.47 words long\n",
    "\n",
    "\n"
   ]
  }
 ],
 "metadata": {
  "kernelspec": {
   "display_name": "acm.ai.project",
   "language": "python",
   "name": "python3"
  },
  "language_info": {
   "codemirror_mode": {
    "name": "ipython",
    "version": 3
   },
   "file_extension": ".py",
   "mimetype": "text/x-python",
   "name": "python",
   "nbconvert_exporter": "python",
   "pygments_lexer": "ipython3",
   "version": "3.8.15 | packaged by conda-forge | (default, Jan 26 2023, 10:42:30) [MSC v.1929 64 bit (AMD64)]"
  },
  "orig_nbformat": 4,
  "vscode": {
   "interpreter": {
    "hash": "0074fd65c3465867eecedac21ff44ee4f4a0b3930a2f4e510f87f1899297c081"
   }
  }
 },
 "nbformat": 4,
 "nbformat_minor": 2
}
